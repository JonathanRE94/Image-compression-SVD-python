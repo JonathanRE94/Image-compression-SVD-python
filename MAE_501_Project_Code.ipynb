{
  "nbformat": 4,
  "nbformat_minor": 0,
  "metadata": {
    "colab": {
      "provenance": []
    },
    "kernelspec": {
      "name": "python3",
      "display_name": "Python 3"
    },
    "language_info": {
      "name": "python"
    }
  },
  "cells": [
    {
      "cell_type": "markdown",
      "source": [
        "The goal of this project is to perform image compression using SVD method.\n",
        "\n",
        "If $\\mathrm{Img}$ is an $m$-by-$n$ matrix representing a grayscale image, then a rank-{r_0} approximation is given by\n",
        "\\begin{equation}\n",
        " \\mathrm{Img}_{r_0} = U_{r_0}\\Sigma_{r_0}V_{r_0}^T\n",
        "\\end{equation}\n",
        "where $U_{r_0}$ is a matrix of size $m$-by-$r_0$ containing the first $r_0$ left singular vectors of $\\mathrm{Img}$, $V_{r_0}$ is a matrix of size $n$-by-$r_0$ containing the first $r_0$ right singular vectors of $\\mathrm{Img}$, and $\\Sigma_{r_0}$ is a diagonal matrix that contains the first $r_0$ non-zero singular values.\n",
        "This approximation gives a compression ratio\n",
        "\\begin{equation}\n",
        "    \\mathrm{CR}(r_0)= \\frac{r_0\\times(1+n+m)}{\\text{size of }\\mathrm{Img}}\n",
        "\\end{equation}\n",
        "\n",
        "For this project I will implement these functions:\n",
        "\n",
        "\n",
        "1.   `get_compression_ratio`: Returns the compression ratio for a given rank.\n",
        "2.   `get_threshold_rank`: Returns the rank-$r_0$ such that $\\sigma_{r_0}/\\sigma_0\\leq \\mathrm{thrsld}$.\n",
        "3.   `compress_img`: Returns the matrices $U_r$, $V_r$, and an array of singular values $S_r=[\\sigma_0,\\sigma_1,\\cdots,\\sigma_{r-1}]$, for a given rank $r$.\n",
        "4.    `rebuild_img`: Returns $\\mathrm{Img}_r$ given $U_r$, $V_r$, and $[\\sigma_0,\\sigma_1,\\cdots,\\sigma_{r-1}]$.\n",
        "5.    `get_compression_error`: Returns the normalized 2-norm of the reconstrution error $||\\mathrm{Img}-\\mathrm{Img}_r||/||\\mathrm{Img}||$"
      ],
      "metadata": {
        "id": "417hGTqWU5rs"
      }
    },
    {
      "cell_type": "code",
      "execution_count": 1,
      "metadata": {
        "id": "cni6RALYkoHT"
      },
      "outputs": [],
      "source": [
        "# --------------------------------------------------\n",
        "# Imports section\n",
        "# --------------------------------------------------\n",
        "import numpy as np\n",
        "import requests\n",
        "from PIL import Image\n",
        "from io import BytesIO"
      ]
    },
    {
      "cell_type": "markdown",
      "source": [
        "1) Implemented a function that computes the compression ratio\n",
        "\\begin{equation}\n",
        "    \\mathrm{CR}(r_0)= \\frac{r_0\\times(1+n+m)}{\\text{size of }\\mathrm{Img}}\n",
        "\\end{equation}"
      ],
      "metadata": {
        "id": "-uzdRKAMZJON"
      }
    },
    {
      "cell_type": "code",
      "source": [
        "# ---------------------------------\n",
        "# Function: get_compression_ratio\n",
        "# ---------------------------------\n",
        "'''\n",
        ":inputs  : img            - Input grayscale image (MxN numpy array)\n",
        ":inputs  : rank           - rank approxiamtion value (integer)\n",
        ":returns : CR             - Compression Ratio (float)\n",
        "'''\n",
        "\n",
        "def get_compression_ratio (img, rank):\n",
        "\n",
        "    W,H=img.shape\n",
        "\n",
        "    Image_size=W*H\n",
        "    CR=(rank*(1+W+H))/(Image_size)\n",
        "\n",
        "    return (CR)"
      ],
      "metadata": {
        "id": "HV0j7kqdZFIZ"
      },
      "execution_count": 2,
      "outputs": []
    },
    {
      "cell_type": "markdown",
      "source": [
        "2) Implemented a function that finds that returns the rank-$r_0$ such that $\\sigma_{r_0}/\\sigma_0\\leq \\mathrm{thrsld}$."
      ],
      "metadata": {
        "id": "zEeGfovJ4iGj"
      }
    },
    {
      "cell_type": "code",
      "source": [
        "# ---------------------------------\n",
        "# Function: get_threshold_rank\n",
        "# ---------------------------------\n",
        "'''\n",
        ":inputs  : img            - Input grayscale image (MxN numpy array)\n",
        ":inputs  : thrsld         - threshold (float)\n",
        ":returns : rank           - rank that meets the threshold (integer)\n",
        "'''\n",
        "\n",
        "def get_threshold_rank (img,thrsld):\n",
        "\n",
        "\n",
        "    U, Sigma , V_T = np.linalg.svd(img, full_matrices=False)\n",
        "    n=Sigma.shape[0]\n",
        "    k=0;\n",
        "    for i in range(n):\n",
        "      if Sigma[i]/Sigma[0]<=thrsld:\n",
        "        return i\n",
        "    for j in range(n):\n",
        "      if Sigma[j]/Sigma[0]>thrsld:\n",
        "        k=k+1;\n",
        "    rank = k;\n",
        "    return rank\n",
        "\n",
        "\n",
        "\n",
        "\n",
        "\n",
        "\n",
        "\n"
      ],
      "metadata": {
        "id": "2Ke3SuKG4hYs"
      },
      "execution_count": 3,
      "outputs": []
    },
    {
      "cell_type": "markdown",
      "source": [
        "3) Implemented a function that builds that returns the matrices $U_r$, $V_r$, and an array of singular values $S_r=[\\sigma_0,\\sigma_1,\\cdots,\\sigma_{r-1}]$, for a given rank $r$."
      ],
      "metadata": {
        "id": "n3ezS5AD9XJC"
      }
    },
    {
      "cell_type": "code",
      "source": [
        "# ---------------------------------\n",
        "# Function: compress_img\n",
        "# ---------------------------------\n",
        "'''\n",
        ":inputs  : img            - Input grayscale image (MxN numpy array)\n",
        ":inputs  : rank           - rank that meets the threshold (integer)\n",
        ":returns : U              - left singular vectors (Mxr 2D-numpy array)\n",
        ":returns : V              - right singular vectors (Mxr 2D-numpy array)\n",
        ":returns : S              - singular values (numpy array of size r)\n",
        "'''\n",
        "\n",
        "def compress_img (img,rank):\n",
        "\n",
        "    U, Sigma , V_T = np.linalg.svd(img)\n",
        "\n",
        "    U=U[:,:rank]\n",
        "\n",
        "    V=V_T[:rank,:]\n",
        "    V=V.T\n",
        "    S=Sigma[:rank]\n",
        "\n",
        "    return (U,V,S)"
      ],
      "metadata": {
        "id": "0RNyR19N9YWE"
      },
      "execution_count": 4,
      "outputs": []
    },
    {
      "cell_type": "markdown",
      "source": [
        "4) Implemented a function that returns $\\mathrm{Img}_r$ given $U_r$, $V_r$, and $[\\sigma_0,\\sigma_1,\\cdots,\\sigma_{r-1}]$."
      ],
      "metadata": {
        "id": "4-HRTu3v5KE3"
      }
    },
    {
      "cell_type": "code",
      "source": [
        "# ---------------------------------\n",
        "# Function: rebuild_img\n",
        "# ---------------------------------\n",
        "'''\n",
        ":inputs  : U              - left singular vectors (Mxr 2D-numpy array)\n",
        ":inputs  : V              - right singular vectors (Mxr 2D-numpy array)\n",
        ":inputs  : S              - singular values (numpy array of size r)\n",
        ":returns : imgr           - reconstructed image (MxN numpy array)\n",
        "'''\n",
        "\n",
        "def rebuild_img (U,V,S):\n",
        "\n",
        "    imgr=U@np.diag(S)@(V.T)\n",
        "\n",
        "    return (imgr)"
      ],
      "metadata": {
        "id": "jb1zwtGM5Pei"
      },
      "execution_count": 5,
      "outputs": []
    },
    {
      "cell_type": "code",
      "source": [],
      "metadata": {
        "id": "w0U-9TiaA9rl"
      },
      "execution_count": null,
      "outputs": []
    },
    {
      "cell_type": "markdown",
      "source": [
        "5) Implemented a function that returns the normalized 2-norm of the reconstrution error $||\\mathrm{Img}-\\mathrm{Img}_r||/||\\mathrm{Img}||$."
      ],
      "metadata": {
        "id": "4CQLpZUqpubj"
      }
    },
    {
      "cell_type": "code",
      "source": [
        "# ---------------------------------\n",
        "# Function: get_compression_error\n",
        "# ---------------------------------\n",
        "'''\n",
        ":inputs  : img            - Input grayscale image (MxN numpy array)\n",
        ":inputs  : rank           - rank approxiamtion value (integer)\n",
        ":returns : error          - threshold (float)\n",
        "'''\n",
        "\n",
        "def get_compression_error (img,rank):\n",
        "\n",
        "    U, Sigma , V_T = np.linalg.svd(img)\n",
        "\n",
        "    U=U[:,:rank]\n",
        "\n",
        "    V_T=V_T[:rank,:]\n",
        "\n",
        "    Sigma=Sigma[:rank]\n",
        "\n",
        "    imgr=U@np.diag(Sigma)@V_T\n",
        "\n",
        "    img1=np.linalg.norm(img)\n",
        "\n",
        "    error=(np.linalg.norm(img-imgr))/img1\n",
        "\n",
        "    return (error)"
      ],
      "metadata": {
        "id": "jWlwBNq7pt_8"
      },
      "execution_count": 6,
      "outputs": []
    },
    {
      "cell_type": "code",
      "source": [
        "# # Get image from url and convert it to grayscale\n",
        "url='https://images.photowall.com/products/65869/bunny-rabbit.jpg?h=699&q=85'\n",
        "img = Image.open(BytesIO(requests.get(url).content)).convert('L')\n",
        "img.show()\n",
        "\n",
        "# # Convert img from a PIL object to a numpy array\n",
        "img = np.asarray(img)\n",
        "print(img.shape)\n",
        "\n",
        "Threshold = 0.01\n",
        "r=get_threshold_rank(img,Threshold)\n",
        "print(\"Rank of approx.:\",   r)\n",
        "print(\"Compression ratio:\", get_compression_ratio(img,r))\n",
        "print(\"Error :\",            get_compression_error(img,r))\n",
        "\n",
        "# # Display compressed image\n",
        "Ur,Vr,Sr = compress_img(img,r)\n",
        "imgr = rebuild_img(Ur,Vr,Sr)\n",
        "imgr = Image.fromarray(imgr)\n",
        "imgr.show()"
      ],
      "metadata": {
        "id": "4xUVX9-rdYa4",
        "colab": {
          "base_uri": "https://localhost:8080/"
        },
        "outputId": "8165a19d-a799-438b-f92b-46ac0314f7e7"
      },
      "execution_count": 9,
      "outputs": [
        {
          "output_type": "stream",
          "name": "stdout",
          "text": [
            "(699, 491)\n",
            "Rank of approx.: 15\n",
            "Compression ratio: 0.052052830782409555\n",
            "Error : 0.0426569175610521\n"
          ]
        }
      ]
    }
  ]
}